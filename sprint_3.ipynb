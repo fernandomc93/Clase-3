{
 "cells": [
  {
   "cell_type": "code",
   "execution_count": 1,
   "id": "0f5ad9cb",
   "metadata": {},
   "outputs": [],
   "source": [
    "import requests \n",
    "from bs4 import BeautifulSoup\n",
    "import pandas as pd"
   ]
  },
  {
   "cell_type": "code",
   "execution_count": 64,
   "id": "db04d1ca",
   "metadata": {},
   "outputs": [],
   "source": [
    "url = 'https://es-us.finanzas.yahoo.com/quote/TEF/history?p=TEF&.tsrc=fin-srch'\n",
    "#url = 'https://es.finance.yahoo.com/quote/TEF/history?p=TEF&.tsrc=fin-srch'\n",
    "r = requests.get(url,\n",
    "                headers={\"User-Agent\": \"Mozilla/5.0 (Macintosh; Intel Mac OS X 10.13; rv:104.0) Gecko/20100101 Firefox/104.0\"}) "
   ]
  },
  {
   "cell_type": "code",
   "execution_count": 65,
   "id": "19068e60",
   "metadata": {},
   "outputs": [],
   "source": [
    "soup = BeautifulSoup(r.content)"
   ]
  },
  {
   "cell_type": "code",
   "execution_count": 66,
   "id": "e7532643",
   "metadata": {},
   "outputs": [],
   "source": [
    "data = []\n",
    "headers = []\n",
    "table = soup.find('table', class_ = 'W(100%) M(0)')\n",
    "\n",
    "table_body = table.find('tbody')\n",
    "rows = table.find_all('tr')\n",
    "for row in rows:\n",
    "    cols = row.find_all('td')\n",
    "    cols = [ele.text.strip() for ele in cols]\n",
    "    data.append([ele for ele in cols if ele])\n",
    "    \n",
    "table_header = table.find('tbody')\n",
    "row = table.find('tr')\n",
    "cols = row.find_all('th')\n",
    "cols = [ele.text.strip() for ele in cols]\n",
    "headers.append([ele for ele in cols if ele])"
   ]
  },
  {
   "cell_type": "code",
   "execution_count": 68,
   "id": "14b39052",
   "metadata": {},
   "outputs": [
    {
     "data": {
      "text/html": [
       "<div>\n",
       "<style scoped>\n",
       "    .dataframe tbody tr th:only-of-type {\n",
       "        vertical-align: middle;\n",
       "    }\n",
       "\n",
       "    .dataframe tbody tr th {\n",
       "        vertical-align: top;\n",
       "    }\n",
       "\n",
       "    .dataframe thead th {\n",
       "        text-align: right;\n",
       "    }\n",
       "</style>\n",
       "<table border=\"1\" class=\"dataframe\">\n",
       "  <thead>\n",
       "    <tr style=\"text-align: right;\">\n",
       "      <th></th>\n",
       "      <th>Fecha</th>\n",
       "      <th>Abrir</th>\n",
       "      <th>Alto</th>\n",
       "      <th>Bajo</th>\n",
       "      <th>Cierre*</th>\n",
       "      <th>Cierre ajustado**</th>\n",
       "      <th>Volumen</th>\n",
       "    </tr>\n",
       "  </thead>\n",
       "  <tbody>\n",
       "    <tr>\n",
       "      <th>1</th>\n",
       "      <td>22 sept 2022</td>\n",
       "      <td>3.6100</td>\n",
       "      <td>3.6200</td>\n",
       "      <td>3.5700</td>\n",
       "      <td>3.5850</td>\n",
       "      <td>3.5850</td>\n",
       "      <td>1,112,563</td>\n",
       "    </tr>\n",
       "    <tr>\n",
       "      <th>2</th>\n",
       "      <td>21 sept 2022</td>\n",
       "      <td>3.6200</td>\n",
       "      <td>3.6300</td>\n",
       "      <td>3.5400</td>\n",
       "      <td>3.5700</td>\n",
       "      <td>3.5700</td>\n",
       "      <td>2,056,900</td>\n",
       "    </tr>\n",
       "    <tr>\n",
       "      <th>3</th>\n",
       "      <td>20 sept 2022</td>\n",
       "      <td>3.7800</td>\n",
       "      <td>3.7800</td>\n",
       "      <td>3.7300</td>\n",
       "      <td>3.7300</td>\n",
       "      <td>3.7300</td>\n",
       "      <td>1,639,600</td>\n",
       "    </tr>\n",
       "    <tr>\n",
       "      <th>4</th>\n",
       "      <td>19 sept 2022</td>\n",
       "      <td>3.8000</td>\n",
       "      <td>3.8500</td>\n",
       "      <td>3.8000</td>\n",
       "      <td>3.8400</td>\n",
       "      <td>3.8400</td>\n",
       "      <td>1,257,200</td>\n",
       "    </tr>\n",
       "    <tr>\n",
       "      <th>5</th>\n",
       "      <td>16 sept 2022</td>\n",
       "      <td>3.8000</td>\n",
       "      <td>3.8500</td>\n",
       "      <td>3.7800</td>\n",
       "      <td>3.8300</td>\n",
       "      <td>3.8300</td>\n",
       "      <td>1,364,700</td>\n",
       "    </tr>\n",
       "    <tr>\n",
       "      <th>6</th>\n",
       "      <td>15 sept 2022</td>\n",
       "      <td>3.8600</td>\n",
       "      <td>3.8800</td>\n",
       "      <td>3.8100</td>\n",
       "      <td>3.8100</td>\n",
       "      <td>3.8100</td>\n",
       "      <td>1,726,300</td>\n",
       "    </tr>\n",
       "    <tr>\n",
       "      <th>7</th>\n",
       "      <td>14 sept 2022</td>\n",
       "      <td>3.8700</td>\n",
       "      <td>3.9000</td>\n",
       "      <td>3.8600</td>\n",
       "      <td>3.8600</td>\n",
       "      <td>3.8600</td>\n",
       "      <td>1,511,800</td>\n",
       "    </tr>\n",
       "    <tr>\n",
       "      <th>8</th>\n",
       "      <td>13 sept 2022</td>\n",
       "      <td>3.9300</td>\n",
       "      <td>3.9600</td>\n",
       "      <td>3.8400</td>\n",
       "      <td>3.8400</td>\n",
       "      <td>3.8400</td>\n",
       "      <td>2,072,800</td>\n",
       "    </tr>\n",
       "    <tr>\n",
       "      <th>9</th>\n",
       "      <td>12 sept 2022</td>\n",
       "      <td>3.9300</td>\n",
       "      <td>3.9800</td>\n",
       "      <td>3.9300</td>\n",
       "      <td>3.9400</td>\n",
       "      <td>3.9400</td>\n",
       "      <td>1,843,500</td>\n",
       "    </tr>\n",
       "    <tr>\n",
       "      <th>10</th>\n",
       "      <td>09 sept 2022</td>\n",
       "      <td>3.9100</td>\n",
       "      <td>3.9200</td>\n",
       "      <td>3.8900</td>\n",
       "      <td>3.9000</td>\n",
       "      <td>3.9000</td>\n",
       "      <td>1,079,300</td>\n",
       "    </tr>\n",
       "  </tbody>\n",
       "</table>\n",
       "</div>"
      ],
      "text/plain": [
       "           Fecha   Abrir    Alto    Bajo Cierre* Cierre ajustado**    Volumen\n",
       "1   22 sept 2022  3.6100  3.6200  3.5700  3.5850            3.5850  1,112,563\n",
       "2   21 sept 2022  3.6200  3.6300  3.5400  3.5700            3.5700  2,056,900\n",
       "3   20 sept 2022  3.7800  3.7800  3.7300  3.7300            3.7300  1,639,600\n",
       "4   19 sept 2022  3.8000  3.8500  3.8000  3.8400            3.8400  1,257,200\n",
       "5   16 sept 2022  3.8000  3.8500  3.7800  3.8300            3.8300  1,364,700\n",
       "6   15 sept 2022  3.8600  3.8800  3.8100  3.8100            3.8100  1,726,300\n",
       "7   14 sept 2022  3.8700  3.9000  3.8600  3.8600            3.8600  1,511,800\n",
       "8   13 sept 2022  3.9300  3.9600  3.8400  3.8400            3.8400  2,072,800\n",
       "9   12 sept 2022  3.9300  3.9800  3.9300  3.9400            3.9400  1,843,500\n",
       "10  09 sept 2022  3.9100  3.9200  3.8900  3.9000            3.9000  1,079,300"
      ]
     },
     "execution_count": 68,
     "metadata": {},
     "output_type": "execute_result"
    }
   ],
   "source": [
    "TEF = pd.DataFrame(data = data, columns = headers[0])\n",
    "TEF.dropna(inplace = True)\n",
    "TEF.info()"
   ]
  },
  {
   "cell_type": "code",
   "execution_count": 82,
   "id": "5e056bc5",
   "metadata": {},
   "outputs": [],
   "source": [
    "TEF['Volumen']=TEF['Volumen'].str.replace(\",\", \"\")\n",
    "TEF.iloc[:,1:]= TEF.iloc[:,1:].astype(float)\n",
    "TEF.info()"
   ]
  },
  {
   "cell_type": "code",
   "execution_count": 86,
   "id": "7e57442d",
   "metadata": {},
   "outputs": [
    {
     "data": {
      "text/html": [
       "<div>\n",
       "<style scoped>\n",
       "    .dataframe tbody tr th:only-of-type {\n",
       "        vertical-align: middle;\n",
       "    }\n",
       "\n",
       "    .dataframe tbody tr th {\n",
       "        vertical-align: top;\n",
       "    }\n",
       "\n",
       "    .dataframe thead th {\n",
       "        text-align: right;\n",
       "    }\n",
       "</style>\n",
       "<table border=\"1\" class=\"dataframe\">\n",
       "  <thead>\n",
       "    <tr style=\"text-align: right;\">\n",
       "      <th></th>\n",
       "      <th>Fecha</th>\n",
       "      <th>Abrir</th>\n",
       "      <th>Alto</th>\n",
       "      <th>Bajo</th>\n",
       "      <th>Cierre*</th>\n",
       "      <th>Cierre ajustado**</th>\n",
       "      <th>Volumen</th>\n",
       "    </tr>\n",
       "  </thead>\n",
       "  <tbody>\n",
       "    <tr>\n",
       "      <th>1</th>\n",
       "      <td>22 sept 2022</td>\n",
       "      <td>3.61</td>\n",
       "      <td>3.62</td>\n",
       "      <td>3.57</td>\n",
       "      <td>3.585</td>\n",
       "      <td>3.585</td>\n",
       "      <td>1112563.0</td>\n",
       "    </tr>\n",
       "    <tr>\n",
       "      <th>2</th>\n",
       "      <td>21 sept 2022</td>\n",
       "      <td>3.62</td>\n",
       "      <td>3.63</td>\n",
       "      <td>3.54</td>\n",
       "      <td>3.570</td>\n",
       "      <td>3.570</td>\n",
       "      <td>2056900.0</td>\n",
       "    </tr>\n",
       "    <tr>\n",
       "      <th>3</th>\n",
       "      <td>20 sept 2022</td>\n",
       "      <td>3.78</td>\n",
       "      <td>3.78</td>\n",
       "      <td>3.73</td>\n",
       "      <td>3.730</td>\n",
       "      <td>3.730</td>\n",
       "      <td>1639600.0</td>\n",
       "    </tr>\n",
       "    <tr>\n",
       "      <th>4</th>\n",
       "      <td>19 sept 2022</td>\n",
       "      <td>3.80</td>\n",
       "      <td>3.85</td>\n",
       "      <td>3.80</td>\n",
       "      <td>3.840</td>\n",
       "      <td>3.840</td>\n",
       "      <td>1257200.0</td>\n",
       "    </tr>\n",
       "    <tr>\n",
       "      <th>5</th>\n",
       "      <td>16 sept 2022</td>\n",
       "      <td>3.80</td>\n",
       "      <td>3.85</td>\n",
       "      <td>3.78</td>\n",
       "      <td>3.830</td>\n",
       "      <td>3.830</td>\n",
       "      <td>1364700.0</td>\n",
       "    </tr>\n",
       "  </tbody>\n",
       "</table>\n",
       "</div>"
      ],
      "text/plain": [
       "          Fecha  Abrir  Alto  Bajo  Cierre*  Cierre ajustado**    Volumen\n",
       "1  22 sept 2022   3.61  3.62  3.57    3.585              3.585  1112563.0\n",
       "2  21 sept 2022   3.62  3.63  3.54    3.570              3.570  2056900.0\n",
       "3  20 sept 2022   3.78  3.78  3.73    3.730              3.730  1639600.0\n",
       "4  19 sept 2022   3.80  3.85  3.80    3.840              3.840  1257200.0\n",
       "5  16 sept 2022   3.80  3.85  3.78    3.830              3.830  1364700.0"
      ]
     },
     "execution_count": 86,
     "metadata": {},
     "output_type": "execute_result"
    }
   ],
   "source": [
    "TEF.head()"
   ]
  },
  {
   "cell_type": "code",
   "execution_count": 111,
   "id": "91dddd28",
   "metadata": {},
   "outputs": [
    {
     "name": "stdout",
     "output_type": "stream",
     "text": [
      "Máximo apertura:\n"
     ]
    },
    {
     "data": {
      "text/plain": [
       "Fecha    31 may 2022\n",
       "Abrir           5.34\n",
       "Name: 81, dtype: object"
      ]
     },
     "metadata": {},
     "output_type": "display_data"
    },
    {
     "name": "stdout",
     "output_type": "stream",
     "text": [
      "Mínimo apertura:\n"
     ]
    },
    {
     "data": {
      "text/plain": [
       "Fecha    22 sept 2022\n",
       "Abrir            3.61\n",
       "Name: 1, dtype: object"
      ]
     },
     "metadata": {},
     "output_type": "display_data"
    }
   ],
   "source": [
    "print(\"Máximo apertura:\")\n",
    "abrir_max = TEF['Abrir'].idxmax()\n",
    "display(TEF.loc[abrir_max, ['Fecha', 'Abrir']])\n",
    "\n",
    "print(\"Mínimo apertura:\")\n",
    "abrir_min = TEF['Abrir'].idxmin()\n",
    "display(TEF.loc[abrir_min, ['Fecha', 'Abrir']])"
   ]
  },
  {
   "cell_type": "code",
   "execution_count": 112,
   "id": "b75d86b3",
   "metadata": {},
   "outputs": [
    {
     "name": "stdout",
     "output_type": "stream",
     "text": [
      "Máximo cierre:\n"
     ]
    },
    {
     "data": {
      "text/plain": [
       "Fecha      31 may 2022\n",
       "Cierre*           5.32\n",
       "Name: 81, dtype: object"
      ]
     },
     "metadata": {},
     "output_type": "display_data"
    },
    {
     "name": "stdout",
     "output_type": "stream",
     "text": [
      "Mínimo cierre:\n"
     ]
    },
    {
     "data": {
      "text/plain": [
       "Fecha      21 sept 2022\n",
       "Cierre*            3.57\n",
       "Name: 2, dtype: object"
      ]
     },
     "metadata": {},
     "output_type": "display_data"
    }
   ],
   "source": [
    "print(\"Máximo cierre:\")\n",
    "cierre_max = TEF['Cierre*'].idxmax()\n",
    "display(TEF.loc[cierre_max, ['Fecha', 'Cierre*']])\n",
    "\n",
    "print(\"Mínimo cierre:\")\n",
    "cierre_min = TEF['Cierre*'].idxmin()\n",
    "display(TEF.loc[cierre_min, ['Fecha', 'Cierre*']])"
   ]
  },
  {
   "cell_type": "code",
   "execution_count": 113,
   "id": "9d25ac24",
   "metadata": {},
   "outputs": [
    {
     "name": "stdout",
     "output_type": "stream",
     "text": [
      "Máximo volumne:\n"
     ]
    },
    {
     "data": {
      "text/plain": [
       "Fecha      03 jun 2022\n",
       "Volumen      5644000.0\n",
       "Name: 77, dtype: object"
      ]
     },
     "metadata": {},
     "output_type": "display_data"
    },
    {
     "name": "stdout",
     "output_type": "stream",
     "text": [
      "Mínimo volumen:\n"
     ]
    },
    {
     "data": {
      "text/plain": [
       "Fecha      13 jul 2022\n",
       "Volumen       725700.0\n",
       "Name: 51, dtype: object"
      ]
     },
     "metadata": {},
     "output_type": "display_data"
    }
   ],
   "source": [
    "print(\"Máximo volumne:\")\n",
    "volumen_max = TEF['Volumen'].idxmax()\n",
    "display(TEF.loc[volumen_max, ['Fecha', 'Volumen']])\n",
    "\n",
    "print(\"Mínimo volumen:\")\n",
    "volumen_min = TEF['Volumen'].idxmin()\n",
    "display(TEF.loc[volumen_min, ['Fecha', 'Volumen']])"
   ]
  },
  {
   "cell_type": "code",
   "execution_count": null,
   "id": "aef26293",
   "metadata": {},
   "outputs": [],
   "source": []
  }
 ],
 "metadata": {
  "kernelspec": {
   "display_name": "Python 3 (ipykernel)",
   "language": "python",
   "name": "python3"
  },
  "language_info": {
   "codemirror_mode": {
    "name": "ipython",
    "version": 3
   },
   "file_extension": ".py",
   "mimetype": "text/x-python",
   "name": "python",
   "nbconvert_exporter": "python",
   "pygments_lexer": "ipython3",
   "version": "3.7.7"
  }
 },
 "nbformat": 4,
 "nbformat_minor": 5
}
